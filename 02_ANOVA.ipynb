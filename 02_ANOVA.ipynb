{
  "nbformat": 4,
  "nbformat_minor": 0,
  "metadata": {
    "colab": {
      "name": "02 - ANOVA.ipynb",
      "provenance": [],
      "collapsed_sections": []
    },
    "kernelspec": {
      "name": "python3",
      "display_name": "Python 3"
    }
  },
  "cells": [
    {
      "cell_type": "markdown",
      "metadata": {
        "id": "wNk2yOcGALup"
      },
      "source": [
        "# Analysis of Variance (ANOVA)\n",
        "It helps us to analyze if there is a difference of the mean in 2 or more groups.\n",
        "* Null hypothesis: There is no significant difference among the groups.\n",
        "* $H_0$: $\\bar{x}_1$ $=$ $\\bar{x}_2$ $=$ $\\bar{x}_3$ ... $=$ $\\bar{x}_k$\n",
        "* Alternative hypothesis: There is a significant difference among the groups. At least, one group has an average different from other groups.\n",
        "* $H_1$: $\\bar{x}_i$ $\\ne$ $\\bar{x}_j$ for some $i, j$\n",
        "<br>\n",
        "<br>\n",
        "Assumptions:\n",
        "1. The observations are drawn from normally distributed population.\n",
        "2. The observations represent random samples from the population.\n",
        "3. The variance of the groups are equal.\n",
        "<br>\n",
        "(If these assumptions are not true, then it is advisable to use Kruskall-Wallis H test.)"
      ]
    },
    {
      "cell_type": "code",
      "metadata": {
        "id": "ETbFU9zLGFhR"
      },
      "source": [
        "# Import the necessary libraries\n",
        "import pandas as pd\n",
        "import numpy as np\n",
        "import matplotlib.pyplot as plt\n",
        "import seaborn as sns\n",
        "from scipy.stats import f_oneway\n",
        "from scipy.stats import norm"
      ],
      "execution_count": 1,
      "outputs": []
    },
    {
      "cell_type": "code",
      "metadata": {
        "colab": {
          "base_uri": "https://localhost:8080/",
          "height": 204
        },
        "id": "FhXY3zcpO_6Z",
        "outputId": "507ae192-7c72-44ef-8716-93d70d11dd95"
      },
      "source": [
        "# Load the dataset\n",
        "\n",
        "diabetes = pd.read_csv('diabetesRCT180.csv')\n",
        "diabetes.head()"
      ],
      "execution_count": 2,
      "outputs": [
        {
          "output_type": "execute_result",
          "data": {
            "text/html": [
              "<div>\n",
              "<style scoped>\n",
              "    .dataframe tbody tr th:only-of-type {\n",
              "        vertical-align: middle;\n",
              "    }\n",
              "\n",
              "    .dataframe tbody tr th {\n",
              "        vertical-align: top;\n",
              "    }\n",
              "\n",
              "    .dataframe thead th {\n",
              "        text-align: right;\n",
              "    }\n",
              "</style>\n",
              "<table border=\"1\" class=\"dataframe\">\n",
              "  <thead>\n",
              "    <tr style=\"text-align: right;\">\n",
              "      <th></th>\n",
              "      <th>Patient_ID</th>\n",
              "      <th>Age</th>\n",
              "      <th>BMI</th>\n",
              "      <th>Status</th>\n",
              "      <th>Sex</th>\n",
              "      <th>HbA1c_0</th>\n",
              "      <th>HbA1c_6</th>\n",
              "      <th>HbA1c_12</th>\n",
              "      <th>Systolic_0</th>\n",
              "      <th>Systolic_6</th>\n",
              "      <th>Systolic_12</th>\n",
              "      <th>Aspirin_0</th>\n",
              "      <th>Aspirin_6</th>\n",
              "      <th>Aspirin_12</th>\n",
              "      <th>Education</th>\n",
              "    </tr>\n",
              "  </thead>\n",
              "  <tbody>\n",
              "    <tr>\n",
              "      <th>0</th>\n",
              "      <td>131</td>\n",
              "      <td>64</td>\n",
              "      <td>31.66</td>\n",
              "      <td>0</td>\n",
              "      <td>1</td>\n",
              "      <td>8.0</td>\n",
              "      <td>7.4</td>\n",
              "      <td>8.1</td>\n",
              "      <td>140</td>\n",
              "      <td>166</td>\n",
              "      <td>136</td>\n",
              "      <td>0</td>\n",
              "      <td>0</td>\n",
              "      <td>0</td>\n",
              "      <td>1</td>\n",
              "    </tr>\n",
              "    <tr>\n",
              "      <th>1</th>\n",
              "      <td>140</td>\n",
              "      <td>31</td>\n",
              "      <td>25.23</td>\n",
              "      <td>1</td>\n",
              "      <td>0</td>\n",
              "      <td>11.0</td>\n",
              "      <td>10.2</td>\n",
              "      <td>12.6</td>\n",
              "      <td>131</td>\n",
              "      <td>120</td>\n",
              "      <td>110</td>\n",
              "      <td>0</td>\n",
              "      <td>1</td>\n",
              "      <td>1</td>\n",
              "      <td>1</td>\n",
              "    </tr>\n",
              "    <tr>\n",
              "      <th>2</th>\n",
              "      <td>159</td>\n",
              "      <td>70</td>\n",
              "      <td>27.17</td>\n",
              "      <td>0</td>\n",
              "      <td>0</td>\n",
              "      <td>8.7</td>\n",
              "      <td>9.6</td>\n",
              "      <td>11.0</td>\n",
              "      <td>110</td>\n",
              "      <td>140</td>\n",
              "      <td>140</td>\n",
              "      <td>1</td>\n",
              "      <td>1</td>\n",
              "      <td>1</td>\n",
              "      <td>0</td>\n",
              "    </tr>\n",
              "    <tr>\n",
              "      <th>3</th>\n",
              "      <td>173</td>\n",
              "      <td>45</td>\n",
              "      <td>36.21</td>\n",
              "      <td>1</td>\n",
              "      <td>1</td>\n",
              "      <td>15.2</td>\n",
              "      <td>6.4</td>\n",
              "      <td>6.7</td>\n",
              "      <td>130</td>\n",
              "      <td>144</td>\n",
              "      <td>158</td>\n",
              "      <td>1</td>\n",
              "      <td>1</td>\n",
              "      <td>1</td>\n",
              "      <td>2</td>\n",
              "    </tr>\n",
              "    <tr>\n",
              "      <th>4</th>\n",
              "      <td>98</td>\n",
              "      <td>46</td>\n",
              "      <td>41.88</td>\n",
              "      <td>1</td>\n",
              "      <td>0</td>\n",
              "      <td>9.0</td>\n",
              "      <td>7.3</td>\n",
              "      <td>6.9</td>\n",
              "      <td>136</td>\n",
              "      <td>136</td>\n",
              "      <td>124</td>\n",
              "      <td>0</td>\n",
              "      <td>1</td>\n",
              "      <td>1</td>\n",
              "      <td>1</td>\n",
              "    </tr>\n",
              "  </tbody>\n",
              "</table>\n",
              "</div>"
            ],
            "text/plain": [
              "   Patient_ID  Age    BMI  Status  ...  Aspirin_0  Aspirin_6  Aspirin_12  Education\n",
              "0         131   64  31.66       0  ...          0          0           0          1\n",
              "1         140   31  25.23       1  ...          0          1           1          1\n",
              "2         159   70  27.17       0  ...          1          1           1          0\n",
              "3         173   45  36.21       1  ...          1          1           1          2\n",
              "4          98   46  41.88       1  ...          0          1           1          1\n",
              "\n",
              "[5 rows x 15 columns]"
            ]
          },
          "metadata": {
            "tags": []
          },
          "execution_count": 2
        }
      ]
    },
    {
      "cell_type": "code",
      "metadata": {
        "id": "IKEbbie4PWAL",
        "colab": {
          "base_uri": "https://localhost:8080/",
          "height": 204
        },
        "outputId": "e803f0f8-47ac-4a9a-d711-b94ea2fe6faf"
      },
      "source": [
        "# Reassign names to education level\n",
        "\n",
        "diabetes['Education'] = diabetes['Education'].replace([0, 1, 2, 3, 4], ['Primary', 'Secondary', 'Bachelor', 'Master', 'Doctor'])\n",
        "diabetes.head()"
      ],
      "execution_count": 3,
      "outputs": [
        {
          "output_type": "execute_result",
          "data": {
            "text/html": [
              "<div>\n",
              "<style scoped>\n",
              "    .dataframe tbody tr th:only-of-type {\n",
              "        vertical-align: middle;\n",
              "    }\n",
              "\n",
              "    .dataframe tbody tr th {\n",
              "        vertical-align: top;\n",
              "    }\n",
              "\n",
              "    .dataframe thead th {\n",
              "        text-align: right;\n",
              "    }\n",
              "</style>\n",
              "<table border=\"1\" class=\"dataframe\">\n",
              "  <thead>\n",
              "    <tr style=\"text-align: right;\">\n",
              "      <th></th>\n",
              "      <th>Patient_ID</th>\n",
              "      <th>Age</th>\n",
              "      <th>BMI</th>\n",
              "      <th>Status</th>\n",
              "      <th>Sex</th>\n",
              "      <th>HbA1c_0</th>\n",
              "      <th>HbA1c_6</th>\n",
              "      <th>HbA1c_12</th>\n",
              "      <th>Systolic_0</th>\n",
              "      <th>Systolic_6</th>\n",
              "      <th>Systolic_12</th>\n",
              "      <th>Aspirin_0</th>\n",
              "      <th>Aspirin_6</th>\n",
              "      <th>Aspirin_12</th>\n",
              "      <th>Education</th>\n",
              "    </tr>\n",
              "  </thead>\n",
              "  <tbody>\n",
              "    <tr>\n",
              "      <th>0</th>\n",
              "      <td>131</td>\n",
              "      <td>64</td>\n",
              "      <td>31.66</td>\n",
              "      <td>0</td>\n",
              "      <td>1</td>\n",
              "      <td>8.0</td>\n",
              "      <td>7.4</td>\n",
              "      <td>8.1</td>\n",
              "      <td>140</td>\n",
              "      <td>166</td>\n",
              "      <td>136</td>\n",
              "      <td>0</td>\n",
              "      <td>0</td>\n",
              "      <td>0</td>\n",
              "      <td>Secondary</td>\n",
              "    </tr>\n",
              "    <tr>\n",
              "      <th>1</th>\n",
              "      <td>140</td>\n",
              "      <td>31</td>\n",
              "      <td>25.23</td>\n",
              "      <td>1</td>\n",
              "      <td>0</td>\n",
              "      <td>11.0</td>\n",
              "      <td>10.2</td>\n",
              "      <td>12.6</td>\n",
              "      <td>131</td>\n",
              "      <td>120</td>\n",
              "      <td>110</td>\n",
              "      <td>0</td>\n",
              "      <td>1</td>\n",
              "      <td>1</td>\n",
              "      <td>Secondary</td>\n",
              "    </tr>\n",
              "    <tr>\n",
              "      <th>2</th>\n",
              "      <td>159</td>\n",
              "      <td>70</td>\n",
              "      <td>27.17</td>\n",
              "      <td>0</td>\n",
              "      <td>0</td>\n",
              "      <td>8.7</td>\n",
              "      <td>9.6</td>\n",
              "      <td>11.0</td>\n",
              "      <td>110</td>\n",
              "      <td>140</td>\n",
              "      <td>140</td>\n",
              "      <td>1</td>\n",
              "      <td>1</td>\n",
              "      <td>1</td>\n",
              "      <td>Primary</td>\n",
              "    </tr>\n",
              "    <tr>\n",
              "      <th>3</th>\n",
              "      <td>173</td>\n",
              "      <td>45</td>\n",
              "      <td>36.21</td>\n",
              "      <td>1</td>\n",
              "      <td>1</td>\n",
              "      <td>15.2</td>\n",
              "      <td>6.4</td>\n",
              "      <td>6.7</td>\n",
              "      <td>130</td>\n",
              "      <td>144</td>\n",
              "      <td>158</td>\n",
              "      <td>1</td>\n",
              "      <td>1</td>\n",
              "      <td>1</td>\n",
              "      <td>Bachelor</td>\n",
              "    </tr>\n",
              "    <tr>\n",
              "      <th>4</th>\n",
              "      <td>98</td>\n",
              "      <td>46</td>\n",
              "      <td>41.88</td>\n",
              "      <td>1</td>\n",
              "      <td>0</td>\n",
              "      <td>9.0</td>\n",
              "      <td>7.3</td>\n",
              "      <td>6.9</td>\n",
              "      <td>136</td>\n",
              "      <td>136</td>\n",
              "      <td>124</td>\n",
              "      <td>0</td>\n",
              "      <td>1</td>\n",
              "      <td>1</td>\n",
              "      <td>Secondary</td>\n",
              "    </tr>\n",
              "  </tbody>\n",
              "</table>\n",
              "</div>"
            ],
            "text/plain": [
              "   Patient_ID  Age    BMI  Status  ...  Aspirin_0  Aspirin_6  Aspirin_12  Education\n",
              "0         131   64  31.66       0  ...          0          0           0  Secondary\n",
              "1         140   31  25.23       1  ...          0          1           1  Secondary\n",
              "2         159   70  27.17       0  ...          1          1           1    Primary\n",
              "3         173   45  36.21       1  ...          1          1           1   Bachelor\n",
              "4          98   46  41.88       1  ...          0          1           1  Secondary\n",
              "\n",
              "[5 rows x 15 columns]"
            ]
          },
          "metadata": {
            "tags": []
          },
          "execution_count": 3
        }
      ]
    },
    {
      "cell_type": "code",
      "metadata": {
        "colab": {
          "base_uri": "https://localhost:8080/",
          "height": 266
        },
        "id": "blYoPSPc149x",
        "outputId": "106e0543-b134-4913-eff8-d12437bc122f"
      },
      "source": [
        "# Perform summary statistics on the BMI of each education level\n",
        "\n",
        "educBMI = diabetes[['Education', 'BMI']].groupby('Education').describe()\n",
        "educBMI"
      ],
      "execution_count": 4,
      "outputs": [
        {
          "output_type": "execute_result",
          "data": {
            "text/html": [
              "<div>\n",
              "<style scoped>\n",
              "    .dataframe tbody tr th:only-of-type {\n",
              "        vertical-align: middle;\n",
              "    }\n",
              "\n",
              "    .dataframe tbody tr th {\n",
              "        vertical-align: top;\n",
              "    }\n",
              "\n",
              "    .dataframe thead tr th {\n",
              "        text-align: left;\n",
              "    }\n",
              "\n",
              "    .dataframe thead tr:last-of-type th {\n",
              "        text-align: right;\n",
              "    }\n",
              "</style>\n",
              "<table border=\"1\" class=\"dataframe\">\n",
              "  <thead>\n",
              "    <tr>\n",
              "      <th></th>\n",
              "      <th colspan=\"8\" halign=\"left\">BMI</th>\n",
              "    </tr>\n",
              "    <tr>\n",
              "      <th></th>\n",
              "      <th>count</th>\n",
              "      <th>mean</th>\n",
              "      <th>std</th>\n",
              "      <th>min</th>\n",
              "      <th>25%</th>\n",
              "      <th>50%</th>\n",
              "      <th>75%</th>\n",
              "      <th>max</th>\n",
              "    </tr>\n",
              "    <tr>\n",
              "      <th>Education</th>\n",
              "      <th></th>\n",
              "      <th></th>\n",
              "      <th></th>\n",
              "      <th></th>\n",
              "      <th></th>\n",
              "      <th></th>\n",
              "      <th></th>\n",
              "      <th></th>\n",
              "    </tr>\n",
              "  </thead>\n",
              "  <tbody>\n",
              "    <tr>\n",
              "      <th>Bachelor</th>\n",
              "      <td>61.0</td>\n",
              "      <td>36.344590</td>\n",
              "      <td>8.743382</td>\n",
              "      <td>20.92</td>\n",
              "      <td>29.6600</td>\n",
              "      <td>34.280</td>\n",
              "      <td>41.9600</td>\n",
              "      <td>56.32</td>\n",
              "    </tr>\n",
              "    <tr>\n",
              "      <th>Doctor</th>\n",
              "      <td>10.0</td>\n",
              "      <td>31.745000</td>\n",
              "      <td>5.884092</td>\n",
              "      <td>24.61</td>\n",
              "      <td>26.6350</td>\n",
              "      <td>30.570</td>\n",
              "      <td>37.5750</td>\n",
              "      <td>39.50</td>\n",
              "    </tr>\n",
              "    <tr>\n",
              "      <th>Master</th>\n",
              "      <td>38.0</td>\n",
              "      <td>35.656579</td>\n",
              "      <td>10.183774</td>\n",
              "      <td>21.77</td>\n",
              "      <td>28.6475</td>\n",
              "      <td>33.555</td>\n",
              "      <td>38.9750</td>\n",
              "      <td>69.43</td>\n",
              "    </tr>\n",
              "    <tr>\n",
              "      <th>Primary</th>\n",
              "      <td>30.0</td>\n",
              "      <td>31.661667</td>\n",
              "      <td>6.654871</td>\n",
              "      <td>21.14</td>\n",
              "      <td>27.1900</td>\n",
              "      <td>31.030</td>\n",
              "      <td>37.1225</td>\n",
              "      <td>42.12</td>\n",
              "    </tr>\n",
              "    <tr>\n",
              "      <th>Secondary</th>\n",
              "      <td>41.0</td>\n",
              "      <td>36.135610</td>\n",
              "      <td>8.445206</td>\n",
              "      <td>23.71</td>\n",
              "      <td>30.6500</td>\n",
              "      <td>35.180</td>\n",
              "      <td>41.1000</td>\n",
              "      <td>63.33</td>\n",
              "    </tr>\n",
              "  </tbody>\n",
              "</table>\n",
              "</div>"
            ],
            "text/plain": [
              "            BMI                                                              \n",
              "          count       mean        std    min      25%     50%      75%    max\n",
              "Education                                                                    \n",
              "Bachelor   61.0  36.344590   8.743382  20.92  29.6600  34.280  41.9600  56.32\n",
              "Doctor     10.0  31.745000   5.884092  24.61  26.6350  30.570  37.5750  39.50\n",
              "Master     38.0  35.656579  10.183774  21.77  28.6475  33.555  38.9750  69.43\n",
              "Primary    30.0  31.661667   6.654871  21.14  27.1900  31.030  37.1225  42.12\n",
              "Secondary  41.0  36.135610   8.445206  23.71  30.6500  35.180  41.1000  63.33"
            ]
          },
          "metadata": {
            "tags": []
          },
          "execution_count": 4
        }
      ]
    },
    {
      "cell_type": "code",
      "metadata": {
        "id": "6a9I40U54Zvu"
      },
      "source": [
        "# Create a subset for each group\n",
        "\n",
        "educBMIpri = diabetes[(diabetes['Education'] == 'Primary')]\n",
        "educBMIpri = educBMIpri['BMI']\n",
        "\n",
        "educBMIsec = diabetes[(diabetes['Education'] == 'Secondary')]\n",
        "educBMIsec = educBMIsec['BMI']\n",
        "\n",
        "educBMIbac = diabetes[(diabetes['Education'] == 'Bachelor')]\n",
        "educBMIbac = educBMIbac['BMI']\n",
        "\n",
        "educBMImas = diabetes[(diabetes['Education'] == 'Master')]\n",
        "educBMImas = educBMImas['BMI']\n",
        "\n",
        "educBMIdoc = diabetes[(diabetes['Education'] == 'Doctor')]\n",
        "educBMIdoc = educBMIdoc['BMI']"
      ],
      "execution_count": 5,
      "outputs": []
    },
    {
      "cell_type": "markdown",
      "metadata": {
        "id": "l6-oOijm-lGc"
      },
      "source": [
        "## Visualize your data using histogram\n",
        "* Plot the distribution with a histogram and maximum likelihood gaussian distribution fit"
      ]
    },
    {
      "cell_type": "code",
      "metadata": {
        "colab": {
          "base_uri": "https://localhost:8080/",
          "height": 985
        },
        "id": "39V7FvPI-xTe",
        "outputId": "b88dcb81-2197-4024-fbbb-77ebdb394fb9"
      },
      "source": [
        "# Create dataset which contains BMI\n",
        "OverallBMI = diabetes['BMI']\n",
        "\n",
        "# Create figure and title\n",
        "fig, axs = plt.subplots(6, 1, figsize=(6, 15), sharex=True)\n",
        "fig.suptitle('Distribution of BMI base on education level')\n",
        "\n",
        "# Overall BMI\n",
        "sns.histplot(OverallBMI, ax=axs[0], color='brown', kde=True)\n",
        "axs[0].set_title('Overall BMI')\n",
        "\n",
        "# Primary education graduate\n",
        "sns.histplot(educBMIpri, ax=axs[1], kde=True, color='blue')\n",
        "axs[1].set_title('BMI of primary education graduate')\n",
        "\n",
        "# Secondary education graduate\n",
        "sns.histplot(educBMIsec, ax=axs[2], kde=True, color='orange')\n",
        "axs[2].set_title('BMI of secondary education graduate')\n",
        "\n",
        "# Bachelor education graduate\n",
        "sns.histplot(educBMIbac, ax=axs[3], kde=True, color='green')\n",
        "axs[3].set_title('BMI of bachelor education graduate')\n",
        "\n",
        "# Master education graduate\n",
        "sns.histplot(educBMImas, ax=axs[4], kde=True, color='red')\n",
        "axs[4].set_title('BMI of master education graduate')\n",
        "\n",
        "# Doctor education graduate\n",
        "sns.histplot(educBMIdoc, ax=axs[5], kde=True, color='purple')\n",
        "axs[5].set_title('BMI of doctor education graduate')\n",
        "\n",
        "plt.show()"
      ],
      "execution_count": 44,
      "outputs": [
        {
          "output_type": "display_data",
          "data": {
            "image/png": "[encoded data removed]",
            "text/plain": [
              "<Figure size 432x1080 with 6 Axes>"
            ]
          },
          "metadata": {
            "tags": [],
            "needs_background": "light"
          }
        }
      ]
    },
    {
      "cell_type": "code",
      "metadata": {
        "colab": {
          "base_uri": "https://localhost:8080/",
          "height": 295
        },
        "id": "bfMUuJYPpGFe",
        "outputId": "017b041e-8680-4388-b928-9f8690a11253"
      },
      "source": [
        "# Create dataset which contains the mean of each group\n",
        "BetweenGrp = [['Primary', educBMIpri.mean()],\n",
        "              ['Secondary', educBMIsec.mean()], \n",
        "              ['Bachelor', educBMIbac.mean()], \n",
        "              ['Master', educBMImas.mean()], \n",
        "              ['Doctor', educBMIdoc.mean()]]\n",
        "BetweenGrp = pd.DataFrame(BetweenGrp, columns = ['Education level', 'BMI'])\n",
        "\n",
        "# Between group mean\n",
        "BtwGrp = sns.barplot(data=BetweenGrp, x='Education level', y='BMI')\n",
        "plt.title('Mean between the groups')\n",
        "\n",
        "# Create a horizontal line to indicate the mean of all the groups\n",
        "MeanLine = BetweenGrp['BMI'].mean()\n",
        "BtwGrp.axhline(MeanLine)\n",
        "\n",
        "plt.show()"
      ],
      "execution_count": 49,
      "outputs": [
        {
          "output_type": "display_data",
          "data": {
            "image/png": "[encoded data removed]",
            "text/plain": [
              "<Figure size 432x288 with 1 Axes>"
            ]
          },
          "metadata": {
            "tags": [],
            "needs_background": "light"
          }
        }
      ]
    },
    {
      "cell_type": "markdown",
      "metadata": {
        "id": "ax7gJm4ibq4J"
      },
      "source": [
        "## Visualize your data using boxplot and violinplot"
      ]
    },
    {
      "cell_type": "code",
      "metadata": {
        "colab": {
          "base_uri": "https://localhost:8080/",
          "height": 279
        },
        "id": "TK7W2pWUaLiO",
        "outputId": "8d4db036-5886-409a-93c1-1c4af13f4c14"
      },
      "source": [
        "BMIbox = sns.boxplot(data=diabetes, x='Education', y='BMI', order=['Primary', 'Secondary', 'Bachelor', 'Master', 'Doctor'])\n",
        "BMIbox.axhline(MeanLine)\n",
        "\n",
        "plt.show()"
      ],
      "execution_count": 50,
      "outputs": [
        {
          "output_type": "display_data",
          "data": {
            "image/png": "[encoded data removed]",
            "text/plain": [
              "<Figure size 432x288 with 1 Axes>"
            ]
          },
          "metadata": {
            "tags": [],
            "needs_background": "light"
          }
        }
      ]
    },
    {
      "cell_type": "code",
      "metadata": {
        "colab": {
          "base_uri": "https://localhost:8080/",
          "height": 279
        },
        "id": "-OtECIJzb2hh",
        "outputId": "7788d9c6-ce24-4578-9cd7-76488b00f69e"
      },
      "source": [
        "BMIviolin = sns.violinplot(data=diabetes, x='Education', y='BMI', order=['Primary', 'Secondary', 'Bachelor', 'Master', 'Doctor'])\n",
        "BMIviolin.axhline(MeanLine)\n",
        "\n",
        "plt.show()"
      ],
      "execution_count": 52,
      "outputs": [
        {
          "output_type": "display_data",
          "data": {
            "image/png": "[encoded data removed]",
            "text/plain": [
              "<Figure size 432x288 with 1 Axes>"
            ]
          },
          "metadata": {
            "tags": [],
            "needs_background": "light"
          }
        }
      ]
    },
    {
      "cell_type": "markdown",
      "metadata": {
        "id": "oBKeD9QSgZSL"
      },
      "source": [
        "## Perform 1-way ANOVA"
      ]
    },
    {
      "cell_type": "code",
      "metadata": {
        "id": "up0bqC-E8hOr",
        "colab": {
          "base_uri": "https://localhost:8080/"
        },
        "outputId": "6f4c516e-9f39-4454-abe0-2897e88fed29"
      },
      "source": [
        "# Perform 1-way ANOVA\n",
        "\n",
        "f_oneway(educBMIpri, educBMIsec, educBMIbac, educBMImas, educBMIdoc)"
      ],
      "execution_count": 45,
      "outputs": [
        {
          "output_type": "execute_result",
          "data": {
            "text/plain": [
              "F_onewayResult(statistic=2.098356387541998, pvalue=0.08300856638914088)"
            ]
          },
          "metadata": {
            "tags": []
          },
          "execution_count": 45
        }
      ]
    },
    {
      "cell_type": "markdown",
      "metadata": {
        "id": "3AzjLWS8savG"
      },
      "source": [
        "We have a p-value result of 0.08 which is bigger than our threshold 0.05. We can conclude that there is no significant difference of the mean between the groups."
      ]
    },
    {
      "cell_type": "markdown",
      "metadata": {
        "id": "AmIworfBbtF_"
      },
      "source": [
        "# Note:\n",
        "Whether your resulting difference is significant or not, you can just end your analysis and made that your last step. However, if your result revealed that there is a significant difference among the groups, then you can proceed with post-hoc analysis using **Tukey's honestly signiicantly differenced (HSD)** test. It will perform multiple pairwise comparison to the groups.\n",
        "<br>\n",
        "In python, your Tukey HSD test can start with this code\n",
        "\n",
        "```\n",
        "statsmodels.stats.multicomp import pairwise_tukeyhsd\n",
        "```\n",
        "\n"
      ]
    }
  ]
}